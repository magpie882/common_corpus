{
 "cells": [
  {
   "cell_type": "markdown",
   "metadata": {},
   "source": [
    "# Common Corpus - Jina & Anisa\n",
    "This aim of this project was to produce a visualization of a conversation between Jina and Anisa about an upcoming exhibition \"Utsu\". The exhibition included photography, painting, mixed media, and music exploring the topic of depression.\n",
    "\n",
    "The exhibition was created by Jina who designed, directed, and modelled in photographs by multiple photographers. Anisa was one of the main contributors and collaborators, with both her own original paintings and creating mixed media art from Jina's photographs.\n",
    "\n",
    "Jina's primary aim was to share her experiences with depression with her friends and to raise awareness of the reality of depression, especially among Japanese attendees."
   ]
  },
  {
   "cell_type": "markdown",
   "metadata": {},
   "source": [
    "## Conversation Analysis\n",
    "During the original 3 hours of conversation, I asked a few prompt questions, meaning there are three voices to be distinguished in the audio files.\n",
    "\n",
    "Unfortunately I couldn't find a voice-to-text algorithm both up for the task and learnable with my time/money resources, so I transcribed the majority of the conversation between Jina and Anisa manually. This also gave me the opportunity to break up and label the conversation into topics, while getting a stronger feel for their individual speaking styles/verbal tics and filtering out irrelevant side-conversations (such as the Go Home music playing at 5PM).\n",
    "\n",
    "This gave me a list of three main topics split between two speakers and a sense of the full story that was to be communicated.\n",
    "\n",
    "I decided that the final visualisation would be two radar diagrams - one for each speaker. The radar diagram would be triangular, one spoke for each topic. The series on the diagram would be the most frequently used words used in the conversation or by only that speaker. The data of each series would be that speaker's share of that word for the topic to show the similarities and differences between Jina and Anisa.\n",
    "\n",
    "For example, we would expect the word \"depression\" to be almost equally shared between Jina and Anisa across the different topics as it is the common theme. However when talking about their art, we would expect their different methods of expression to belong more strongly to either Jina (photography) or Anisa (painting)."
   ]
  },
  {
   "cell_type": "code",
   "execution_count": 83,
   "metadata": {},
   "outputs": [],
   "source": [
    "import nltk\n",
    "import numpy\n",
    "import pandas as pd\n",
    "import re\n",
    "import matplotlib.pyplot as plt\n",
    "from nltk.stem import PorterStemmer\n",
    "from nltk.stem import WordNetLemmatizer\n",
    "from nltk.corpus import stopwords\n",
    "\n",
    "def cleanString(_sentence):\n",
    "    _sentence = _sentence.lower().replace(\"kind of\",\"\")\n",
    "    _sentence = _sentence.replace(\"'ll\",\"\").replace(\"'ve\",\"\").replace(\"'re\",\"\").replace(\"'m\",\"\").replace(\"n't\",\"\").replace(\"'s\",\"\")\n",
    "    _sentence = _sentence.replace(\"-\",\" \").replace(\"'\",\" \").replace(\".\",\"\").replace(\",\",\"\").replace('\"',\"\").replace('?',\"\")\n",
    "    return _sentence\n",
    "\n",
    "def verbatimConcat(_sentences):\n",
    "    _concat_sentences = cleanString(_sentences[0])\n",
    "    for _sent in _sentences[1:]:\n",
    "        _concat_sentences = _concat_sentences + \" \" + cleanString(_sent)\n",
    "    return _concat_sentences\n",
    "\n",
    "def verbatimClean(_verbatim):\n",
    "    pst = PorterStemmer()\n",
    "    #_tokens = [pst.stem(_t) for _t in verbatimConcat(_verbatim).split() if len(pst.stem(_t)) > 1 and _t not in stop_words]\n",
    "    wlem = WordNetLemmatizer()\n",
    "    _tokens = [pst.stem(wlem.lemmatize(_t)) for _t in verbatimConcat(_verbatim).split() if len(wlem.lemmatize(_t)) > 1 and _t not in stop_words_3]\n",
    "    return _tokens\n",
    "    \n",
    "def verbatimFreq(_tokens):\n",
    "    _verbatim_freq = nltk.FreqDist(verbatimClean(_tokens))\n",
    "    return _verbatim_freq\n",
    "\n",
    "stop_words_1 = stopwords.words(\"english\")\n",
    "stop_words_2 = [\"the\",\"an\",\"and\",\"like\",\n",
    "              \"i\",\"you\",\"we\",\"they\",\"he\",\"she\",\"him\",\"her\",\"us\",\"me\",\"your\",\"my\",\"his\",\"hers\",\"them\",\"one\",\n",
    "              \"not\",\"am\",\"this\",\"that\",\"those\",\"was\",\"with\",\"oh\",\"ah\",\"or\",\"there\",\"been\",\"be\",\"being\",\"from\",\"were\",\n",
    "              \"are\",\"is\",\"it\",\"would\",\"could\",\"to\",\"have\",\"can\",\"do\",\"did\",\"does\",\"ca\",\"on\",\"for\",\"if\",\n",
    "              \"of\",\"but\",\"so\",\"in\",\"at\",\"just\",\"really\",\"even\",\"too\",\"because\",\"also\",\"out\",\"however\",\"lot\",\n",
    "              \"most\",\"least\",\"much\",\"more\",\"little\",\"some\",\"thing\",\"as\",\"actually\",\"maybe\",\"about\",\"had\",\"yeah\",\n",
    "              \"through\",\"although\",\"though\",\n",
    "              \"when\",\"who\",\"what\",\"where\",\"why\",\"how\",\"then\",\"no\",\"yes\",\"maybe\",\"well\",\n",
    "              \"go\",\"get\",\"want\",\"going\",\"say\",\"saying\",\"great\",\"okay\",\"want\",\n",
    "              \"jina\",\"anisa\",\"within\",\"will\",\"kinda\",\"since\",\"still\",\"um\"]\n",
    "stop_words_3 = stop_words_1 + stop_words_2"
   ]
  },
  {
   "cell_type": "code",
   "execution_count": 84,
   "metadata": {},
   "outputs": [],
   "source": [
    "conversations = pd.read_csv(\"transcript.tsv\",sep='\\t')\n",
    "\n",
    "# Merging similar topics to simplify visualisation\n",
    "conversations.Topic = conversations.Topic.apply(lambda x: \"Exhibition\" if \"Exhibition\" in x else x)\n",
    "conversations.Topic = conversations.Topic.apply(lambda x: \"Exhibition\" if \"Other\" in x else x)\n",
    "conversations.Topic = conversations.Topic.apply(lambda x: \"Experiences\" if \"Victories\" in x else x)\n",
    "\n",
    "topics = list(set(conversations.Topic))\n",
    "\n",
    "jina = conversations[conversations[\"Speaker\"]==\"Jina\"]\n",
    "anisa = conversations[conversations[\"Speaker\"]==\"Anisa\"]\n",
    "conv = jina.append(anisa)"
   ]
  },
  {
   "cell_type": "code",
   "execution_count": 85,
   "metadata": {},
   "outputs": [],
   "source": [
    "jina_dict = {}\n",
    "anisa_dict = {}\n",
    "conv_dict = {}\n",
    "\n",
    "for topic in topics:\n",
    "    jina_dict[topic] = verbatimFreq(jina[jina.Topic==topic][\"Verbatim\"].to_list())\n",
    "    anisa_dict[topic] = verbatimFreq(anisa[anisa.Topic==topic][\"Verbatim\"].to_list())\n",
    "    conv_dict[topic] = verbatimFreq(conv[conv.Topic==topic][\"Verbatim\"].to_list())"
   ]
  },
  {
   "cell_type": "code",
   "execution_count": 86,
   "metadata": {},
   "outputs": [
    {
     "name": "stdout",
     "output_type": "stream",
     "text": [
      "Exhibition\n"
     ]
    },
    {
     "data": {
      "image/png": "[encoded data removed]",
      "text/plain": [
       "<Figure size 432x288 with 1 Axes>"
      ]
     },
     "metadata": {
      "needs_background": "light"
     },
     "output_type": "display_data"
    },
    {
     "name": "stdout",
     "output_type": "stream",
     "text": [
      "Experiences\n"
     ]
    },
    {
     "data": {
      "image/png": "[encoded data removed]",
      "text/plain": [
       "<Figure size 432x288 with 1 Axes>"
      ]
     },
     "metadata": {
      "needs_background": "light"
     },
     "output_type": "display_data"
    },
    {
     "name": "stdout",
     "output_type": "stream",
     "text": [
      "Art\n"
     ]
    },
    {
     "data": {
      "image/png": "[encoded data removed]",
      "text/plain": [
       "<Figure size 432x288 with 1 Axes>"
      ]
     },
     "metadata": {
      "needs_background": "light"
     },
     "output_type": "display_data"
    }
   ],
   "source": [
    "for topic in topics:\n",
    "    print(topic)\n",
    "    conv_dict[topic].plot(25)"
   ]
  },
  {
   "cell_type": "markdown",
   "metadata": {},
   "source": [
    "## Balancing the Bias\n",
    "Technically we could use the word frequency distributions at this point. However, I want to make sure that Jina and Anisa have equal input in the model. So what I'm going to do is intra-scale the frequency distributions.\n",
    "\n",
    "### Wait, Intra-Scale?\n",
    "Intra-scale is the name I gave to a two-step scaling method I developed and used in my research. I wanted to analyse a platform process used by a cell-line to express different products. The challenge was that the different products affected the cells differently so it was difficult to separate the impact of the process and product on the cell's performance. This is called confounding, and confound it all, it can be a major issue!"
   ]
  },
  {
   "cell_type": "code",
   "execution_count": 87,
   "metadata": {},
   "outputs": [],
   "source": [
    "# Convert to dictionaries and cross-scale.\n",
    "jina_dict_scaled = {}\n",
    "anisa_dict_scaled = {}\n",
    "\n",
    "for topic in topics:\n",
    "    jina_dict_scaled[topic] = dict(jina_dict[topic])\n",
    "    jina_token_count = float(sum(jina_dict_scaled[topic].values()))\n",
    "    for key in jina_dict_scaled[topic]:\n",
    "        jina_dict_scaled[topic][key] = float(jina_dict_scaled[topic][key])/jina_token_count\n",
    "    \n",
    "    anisa_dict_scaled[topic] = dict(anisa_dict[topic])\n",
    "    anisa_token_count = float(sum(anisa_dict_scaled[topic].values()))\n",
    "    for key in anisa_dict_scaled[topic]:\n",
    "        anisa_dict_scaled[topic][key] = float(anisa_dict_scaled[topic][key])/anisa_token_count"
   ]
  },
  {
   "cell_type": "code",
   "execution_count": 88,
   "metadata": {},
   "outputs": [],
   "source": [
    "conv_dict_scaled = {}\n",
    "conv_dict_array = []\n",
    "\n",
    "for topic in topics:\n",
    "    conv_dict_scaled[topic] = dict(conv_dict[topic])\n",
    "    conv_token_count = float(sum(conv_dict_scaled[topic].values()))\n",
    "    \n",
    "    for key in conv_dict_scaled[topic]:\n",
    "        if key in anisa_dict_scaled[topic].keys():\n",
    "            anisa_value = anisa_dict_scaled[topic][key]\n",
    "        else:\n",
    "            anisa_value = 0.0\n",
    "        \n",
    "        if key in jina_dict_scaled[topic].keys():\n",
    "            jina_value = jina_dict_scaled[topic][key]\n",
    "        else:\n",
    "            jina_value = 0.0\n",
    "            \n",
    "        conv_dict_scaled[topic][key] = {\"topic\": topic,\n",
    "                                        \"key\": key,\n",
    "                                        \"conv_value\": jina_value+anisa_value,\n",
    "                                        \"jina_share\": jina_value/(jina_value+anisa_value),\n",
    "                                        \"anisa_share\": anisa_value/(jina_value+anisa_value)}\n",
    "        conv_dict_array.append((topic,\n",
    "                               key,\n",
    "                               jina_value+anisa_value,\n",
    "                               jina_value/(jina_value+anisa_value),\n",
    "                               anisa_value/(jina_value+anisa_value)))\n",
    "                               \n",
    "conv_tokens_df = pd.DataFrame.from_records(conv_dict_array,\n",
    "                                           columns=[\"topic\",\"key\",\"conv_value\",\"jina_share\",\"anisa_share\"])"
   ]
  },
  {
   "cell_type": "code",
   "execution_count": 89,
   "metadata": {},
   "outputs": [],
   "source": [
    "art_tokens = conv_tokens_df[(conv_tokens_df[\"topic\"]==\"Art\") & ((conv_tokens_df[\"jina_share\"]!=1.0) & (conv_tokens_df[\"anisa_share\"]!=1.0))]\n",
    "exp_tokens = conv_tokens_df[(conv_tokens_df[\"topic\"]==\"Experiences\") & ((conv_tokens_df[\"jina_share\"]!=1.0) & (conv_tokens_df[\"anisa_share\"]!=1.0))]\n",
    "exh_tokens = conv_tokens_df[(conv_tokens_df[\"topic\"]==\"Exhibition\")  & ((conv_tokens_df[\"jina_share\"]!=1.0) & (conv_tokens_df[\"anisa_share\"]!=1.0))]"
   ]
  },
  {
   "cell_type": "code",
   "execution_count": 95,
   "metadata": {},
   "outputs": [
    {
     "data": {
      "image/png": "[encoded data removed]",
      "text/plain": [
       "<Figure size 432x288 with 1 Axes>"
      ]
     },
     "metadata": {
      "needs_background": "light"
     },
     "output_type": "display_data"
    },
    {
     "name": "stdout",
     "output_type": "stream",
     "text": [
      "63\n"
     ]
    },
    {
     "data": {
      "text/html": [
       "<div>\n",
       "<style scoped>\n",
       "    .dataframe tbody tr th:only-of-type {\n",
       "        vertical-align: middle;\n",
       "    }\n",
       "\n",
       "    .dataframe tbody tr th {\n",
       "        vertical-align: top;\n",
       "    }\n",
       "\n",
       "    .dataframe thead th {\n",
       "        text-align: right;\n",
       "    }\n",
       "</style>\n",
       "<table border=\"1\" class=\"dataframe\">\n",
       "  <thead>\n",
       "    <tr style=\"text-align: right;\">\n",
       "      <th></th>\n",
       "      <th>topic</th>\n",
       "      <th>key</th>\n",
       "      <th>conv_value</th>\n",
       "      <th>jina_share</th>\n",
       "      <th>anisa_share</th>\n",
       "    </tr>\n",
       "  </thead>\n",
       "  <tbody>\n",
       "    <tr>\n",
       "      <th>1022</th>\n",
       "      <td>Art</td>\n",
       "      <td>look</td>\n",
       "      <td>0.057875</td>\n",
       "      <td>0.577709</td>\n",
       "      <td>0.422291</td>\n",
       "    </tr>\n",
       "    <tr>\n",
       "      <th>986</th>\n",
       "      <td>Art</td>\n",
       "      <td>feel</td>\n",
       "      <td>0.053832</td>\n",
       "      <td>0.508165</td>\n",
       "      <td>0.491835</td>\n",
       "    </tr>\n",
       "    <tr>\n",
       "      <th>976</th>\n",
       "      <td>Art</td>\n",
       "      <td>paint</td>\n",
       "      <td>0.046812</td>\n",
       "      <td>0.129860</td>\n",
       "      <td>0.870140</td>\n",
       "    </tr>\n",
       "    <tr>\n",
       "      <th>997</th>\n",
       "      <td>Art</td>\n",
       "      <td>depress</td>\n",
       "      <td>0.043649</td>\n",
       "      <td>0.626720</td>\n",
       "      <td>0.373280</td>\n",
       "    </tr>\n",
       "    <tr>\n",
       "      <th>1016</th>\n",
       "      <td>Art</td>\n",
       "      <td>think</td>\n",
       "      <td>0.036567</td>\n",
       "      <td>0.498730</td>\n",
       "      <td>0.501270</td>\n",
       "    </tr>\n",
       "  </tbody>\n",
       "</table>\n",
       "</div>"
      ],
      "text/plain": [
       "     topic      key  conv_value  jina_share  anisa_share\n",
       "1022   Art     look    0.057875    0.577709     0.422291\n",
       "986    Art     feel    0.053832    0.508165     0.491835\n",
       "976    Art    paint    0.046812    0.129860     0.870140\n",
       "997    Art  depress    0.043649    0.626720     0.373280\n",
       "1016   Art    think    0.036567    0.498730     0.501270"
      ]
     },
     "execution_count": 95,
     "metadata": {},
     "output_type": "execute_result"
    }
   ],
   "source": [
    "plt.scatter(art_tokens[\"jina_share\"], art_tokens[\"anisa_share\"], s=art_tokens[\"conv_value\"]*10000, alpha=0.5)\n",
    "plt.xlabel(\"Jina's Words\")\n",
    "plt.ylabel(\"Anisa's Words\")\n",
    "plt.show()\n",
    "print(len(art_tokens))\n",
    "art_tokens.sort_values(\"conv_value\", ascending=False).head()"
   ]
  },
  {
   "cell_type": "code",
   "execution_count": 96,
   "metadata": {},
   "outputs": [
    {
     "data": {
      "image/png": "[encoded data removed]",
      "text/plain": [
       "<Figure size 432x288 with 1 Axes>"
      ]
     },
     "metadata": {
      "needs_background": "light"
     },
     "output_type": "display_data"
    },
    {
     "name": "stdout",
     "output_type": "stream",
     "text": [
      "78\n"
     ]
    },
    {
     "data": {
      "text/html": [
       "<div>\n",
       "<style scoped>\n",
       "    .dataframe tbody tr th:only-of-type {\n",
       "        vertical-align: middle;\n",
       "    }\n",
       "\n",
       "    .dataframe tbody tr th {\n",
       "        vertical-align: top;\n",
       "    }\n",
       "\n",
       "    .dataframe thead th {\n",
       "        text-align: right;\n",
       "    }\n",
       "</style>\n",
       "<table border=\"1\" class=\"dataframe\">\n",
       "  <thead>\n",
       "    <tr style=\"text-align: right;\">\n",
       "      <th></th>\n",
       "      <th>topic</th>\n",
       "      <th>key</th>\n",
       "      <th>conv_value</th>\n",
       "      <th>jina_share</th>\n",
       "      <th>anisa_share</th>\n",
       "    </tr>\n",
       "  </thead>\n",
       "  <tbody>\n",
       "    <tr>\n",
       "      <th>582</th>\n",
       "      <td>Experiences</td>\n",
       "      <td>feel</td>\n",
       "      <td>0.071275</td>\n",
       "      <td>0.753857</td>\n",
       "      <td>0.246143</td>\n",
       "    </tr>\n",
       "    <tr>\n",
       "      <th>552</th>\n",
       "      <td>Experiences</td>\n",
       "      <td>depress</td>\n",
       "      <td>0.043179</td>\n",
       "      <td>0.553062</td>\n",
       "      <td>0.446938</td>\n",
       "    </tr>\n",
       "    <tr>\n",
       "      <th>649</th>\n",
       "      <td>Experiences</td>\n",
       "      <td>peopl</td>\n",
       "      <td>0.041582</td>\n",
       "      <td>0.071788</td>\n",
       "      <td>0.928212</td>\n",
       "    </tr>\n",
       "    <tr>\n",
       "      <th>574</th>\n",
       "      <td>Experiences</td>\n",
       "      <td>know</td>\n",
       "      <td>0.030715</td>\n",
       "      <td>0.485934</td>\n",
       "      <td>0.514066</td>\n",
       "    </tr>\n",
       "    <tr>\n",
       "      <th>585</th>\n",
       "      <td>Experiences</td>\n",
       "      <td>thing</td>\n",
       "      <td>0.024745</td>\n",
       "      <td>0.361905</td>\n",
       "      <td>0.638095</td>\n",
       "    </tr>\n",
       "  </tbody>\n",
       "</table>\n",
       "</div>"
      ],
      "text/plain": [
       "           topic      key  conv_value  jina_share  anisa_share\n",
       "582  Experiences     feel    0.071275    0.753857     0.246143\n",
       "552  Experiences  depress    0.043179    0.553062     0.446938\n",
       "649  Experiences    peopl    0.041582    0.071788     0.928212\n",
       "574  Experiences     know    0.030715    0.485934     0.514066\n",
       "585  Experiences    thing    0.024745    0.361905     0.638095"
      ]
     },
     "execution_count": 96,
     "metadata": {},
     "output_type": "execute_result"
    }
   ],
   "source": [
    "plt.scatter(exp_tokens[\"jina_share\"], exp_tokens[\"anisa_share\"], s=exp_tokens[\"conv_value\"]*10000, alpha=0.5)\n",
    "plt.xlabel(\"Jina's Words\")\n",
    "plt.ylabel(\"Anisa's Words\")\n",
    "plt.show()\n",
    "print(len(exp_tokens))\n",
    "exp_tokens.sort_values(\"conv_value\", ascending=False).head()"
   ]
  },
  {
   "cell_type": "code",
   "execution_count": 97,
   "metadata": {},
   "outputs": [
    {
     "data": {
      "image/png": "[encoded data removed]",
      "text/plain": [
       "<Figure size 432x288 with 1 Axes>"
      ]
     },
     "metadata": {
      "needs_background": "light"
     },
     "output_type": "display_data"
    },
    {
     "name": "stdout",
     "output_type": "stream",
     "text": [
      "131\n"
     ]
    },
    {
     "data": {
      "text/html": [
       "<div>\n",
       "<style scoped>\n",
       "    .dataframe tbody tr th:only-of-type {\n",
       "        vertical-align: middle;\n",
       "    }\n",
       "\n",
       "    .dataframe tbody tr th {\n",
       "        vertical-align: top;\n",
       "    }\n",
       "\n",
       "    .dataframe thead th {\n",
       "        text-align: right;\n",
       "    }\n",
       "</style>\n",
       "<table border=\"1\" class=\"dataframe\">\n",
       "  <thead>\n",
       "    <tr style=\"text-align: right;\">\n",
       "      <th></th>\n",
       "      <th>topic</th>\n",
       "      <th>key</th>\n",
       "      <th>conv_value</th>\n",
       "      <th>jina_share</th>\n",
       "      <th>anisa_share</th>\n",
       "    </tr>\n",
       "  </thead>\n",
       "  <tbody>\n",
       "    <tr>\n",
       "      <th>24</th>\n",
       "      <td>Exhibition</td>\n",
       "      <td>peopl</td>\n",
       "      <td>0.089045</td>\n",
       "      <td>0.365367</td>\n",
       "      <td>0.634633</td>\n",
       "    </tr>\n",
       "    <tr>\n",
       "      <th>28</th>\n",
       "      <td>Exhibition</td>\n",
       "      <td>know</td>\n",
       "      <td>0.055430</td>\n",
       "      <td>0.401594</td>\n",
       "      <td>0.598406</td>\n",
       "    </tr>\n",
       "    <tr>\n",
       "      <th>0</th>\n",
       "      <td>Exhibition</td>\n",
       "      <td>depress</td>\n",
       "      <td>0.052005</td>\n",
       "      <td>0.362188</td>\n",
       "      <td>0.637812</td>\n",
       "    </tr>\n",
       "    <tr>\n",
       "      <th>36</th>\n",
       "      <td>Exhibition</td>\n",
       "      <td>feel</td>\n",
       "      <td>0.045863</td>\n",
       "      <td>0.410696</td>\n",
       "      <td>0.589304</td>\n",
       "    </tr>\n",
       "    <tr>\n",
       "      <th>179</th>\n",
       "      <td>Exhibition</td>\n",
       "      <td>someon</td>\n",
       "      <td>0.021591</td>\n",
       "      <td>0.317225</td>\n",
       "      <td>0.682775</td>\n",
       "    </tr>\n",
       "  </tbody>\n",
       "</table>\n",
       "</div>"
      ],
      "text/plain": [
       "          topic      key  conv_value  jina_share  anisa_share\n",
       "24   Exhibition    peopl    0.089045    0.365367     0.634633\n",
       "28   Exhibition     know    0.055430    0.401594     0.598406\n",
       "0    Exhibition  depress    0.052005    0.362188     0.637812\n",
       "36   Exhibition     feel    0.045863    0.410696     0.589304\n",
       "179  Exhibition   someon    0.021591    0.317225     0.682775"
      ]
     },
     "execution_count": 97,
     "metadata": {},
     "output_type": "execute_result"
    }
   ],
   "source": [
    "plt.scatter(exh_tokens[\"jina_share\"], exh_tokens[\"anisa_share\"], s=exh_tokens[\"conv_value\"]*10000, alpha=0.5)\n",
    "plt.xlabel(\"Jina's Words\")\n",
    "plt.ylabel(\"Anisa's Words\")\n",
    "plt.show()\n",
    "print(len(exh_tokens))\n",
    "exh_tokens.sort_values(\"conv_value\", ascending=False).head()"
   ]
  },
  {
   "cell_type": "code",
   "execution_count": 99,
   "metadata": {},
   "outputs": [
    {
     "data": {
      "text/html": [
       "<div>\n",
       "<style scoped>\n",
       "    .dataframe tbody tr th:only-of-type {\n",
       "        vertical-align: middle;\n",
       "    }\n",
       "\n",
       "    .dataframe tbody tr th {\n",
       "        vertical-align: top;\n",
       "    }\n",
       "\n",
       "    .dataframe thead th {\n",
       "        text-align: right;\n",
       "    }\n",
       "</style>\n",
       "<table border=\"1\" class=\"dataframe\">\n",
       "  <thead>\n",
       "    <tr style=\"text-align: right;\">\n",
       "      <th></th>\n",
       "      <th>topic</th>\n",
       "      <th>key</th>\n",
       "      <th>conv_value</th>\n",
       "      <th>jina_share</th>\n",
       "      <th>anisa_share</th>\n",
       "    </tr>\n",
       "  </thead>\n",
       "  <tbody>\n",
       "    <tr>\n",
       "      <th>1022</th>\n",
       "      <td>Art</td>\n",
       "      <td>look</td>\n",
       "      <td>0.057875</td>\n",
       "      <td>0.577709</td>\n",
       "      <td>0.422291</td>\n",
       "    </tr>\n",
       "    <tr>\n",
       "      <th>986</th>\n",
       "      <td>Art</td>\n",
       "      <td>feel</td>\n",
       "      <td>0.053832</td>\n",
       "      <td>0.508165</td>\n",
       "      <td>0.491835</td>\n",
       "    </tr>\n",
       "    <tr>\n",
       "      <th>976</th>\n",
       "      <td>Art</td>\n",
       "      <td>paint</td>\n",
       "      <td>0.046812</td>\n",
       "      <td>0.129860</td>\n",
       "      <td>0.870140</td>\n",
       "    </tr>\n",
       "    <tr>\n",
       "      <th>997</th>\n",
       "      <td>Art</td>\n",
       "      <td>depress</td>\n",
       "      <td>0.043649</td>\n",
       "      <td>0.626720</td>\n",
       "      <td>0.373280</td>\n",
       "    </tr>\n",
       "    <tr>\n",
       "      <th>1016</th>\n",
       "      <td>Art</td>\n",
       "      <td>think</td>\n",
       "      <td>0.036567</td>\n",
       "      <td>0.498730</td>\n",
       "      <td>0.501270</td>\n",
       "    </tr>\n",
       "    <tr>\n",
       "      <th>582</th>\n",
       "      <td>Experiences</td>\n",
       "      <td>feel</td>\n",
       "      <td>0.071275</td>\n",
       "      <td>0.753857</td>\n",
       "      <td>0.246143</td>\n",
       "    </tr>\n",
       "    <tr>\n",
       "      <th>552</th>\n",
       "      <td>Experiences</td>\n",
       "      <td>depress</td>\n",
       "      <td>0.043179</td>\n",
       "      <td>0.553062</td>\n",
       "      <td>0.446938</td>\n",
       "    </tr>\n",
       "    <tr>\n",
       "      <th>649</th>\n",
       "      <td>Experiences</td>\n",
       "      <td>peopl</td>\n",
       "      <td>0.041582</td>\n",
       "      <td>0.071788</td>\n",
       "      <td>0.928212</td>\n",
       "    </tr>\n",
       "    <tr>\n",
       "      <th>574</th>\n",
       "      <td>Experiences</td>\n",
       "      <td>know</td>\n",
       "      <td>0.030715</td>\n",
       "      <td>0.485934</td>\n",
       "      <td>0.514066</td>\n",
       "    </tr>\n",
       "    <tr>\n",
       "      <th>585</th>\n",
       "      <td>Experiences</td>\n",
       "      <td>thing</td>\n",
       "      <td>0.024745</td>\n",
       "      <td>0.361905</td>\n",
       "      <td>0.638095</td>\n",
       "    </tr>\n",
       "    <tr>\n",
       "      <th>24</th>\n",
       "      <td>Exhibition</td>\n",
       "      <td>peopl</td>\n",
       "      <td>0.089045</td>\n",
       "      <td>0.365367</td>\n",
       "      <td>0.634633</td>\n",
       "    </tr>\n",
       "    <tr>\n",
       "      <th>28</th>\n",
       "      <td>Exhibition</td>\n",
       "      <td>know</td>\n",
       "      <td>0.055430</td>\n",
       "      <td>0.401594</td>\n",
       "      <td>0.598406</td>\n",
       "    </tr>\n",
       "    <tr>\n",
       "      <th>0</th>\n",
       "      <td>Exhibition</td>\n",
       "      <td>depress</td>\n",
       "      <td>0.052005</td>\n",
       "      <td>0.362188</td>\n",
       "      <td>0.637812</td>\n",
       "    </tr>\n",
       "    <tr>\n",
       "      <th>36</th>\n",
       "      <td>Exhibition</td>\n",
       "      <td>feel</td>\n",
       "      <td>0.045863</td>\n",
       "      <td>0.410696</td>\n",
       "      <td>0.589304</td>\n",
       "    </tr>\n",
       "    <tr>\n",
       "      <th>179</th>\n",
       "      <td>Exhibition</td>\n",
       "      <td>someon</td>\n",
       "      <td>0.021591</td>\n",
       "      <td>0.317225</td>\n",
       "      <td>0.682775</td>\n",
       "    </tr>\n",
       "  </tbody>\n",
       "</table>\n",
       "</div>"
      ],
      "text/plain": [
       "            topic      key  conv_value  jina_share  anisa_share\n",
       "1022          Art     look    0.057875    0.577709     0.422291\n",
       "986           Art     feel    0.053832    0.508165     0.491835\n",
       "976           Art    paint    0.046812    0.129860     0.870140\n",
       "997           Art  depress    0.043649    0.626720     0.373280\n",
       "1016          Art    think    0.036567    0.498730     0.501270\n",
       "582   Experiences     feel    0.071275    0.753857     0.246143\n",
       "552   Experiences  depress    0.043179    0.553062     0.446938\n",
       "649   Experiences    peopl    0.041582    0.071788     0.928212\n",
       "574   Experiences     know    0.030715    0.485934     0.514066\n",
       "585   Experiences    thing    0.024745    0.361905     0.638095\n",
       "24     Exhibition    peopl    0.089045    0.365367     0.634633\n",
       "28     Exhibition     know    0.055430    0.401594     0.598406\n",
       "0      Exhibition  depress    0.052005    0.362188     0.637812\n",
       "36     Exhibition     feel    0.045863    0.410696     0.589304\n",
       "179    Exhibition   someon    0.021591    0.317225     0.682775"
      ]
     },
     "execution_count": 99,
     "metadata": {},
     "output_type": "execute_result"
    }
   ],
   "source": [
    "art_tokens.sort_values(\"conv_value\",ascending=False).head().append(\n",
    "    exp_tokens.sort_values(\"conv_value\",ascending=False).head().append(\n",
    "        exh_tokens.sort_values(\"conv_value\",\n",
    "                                                                                                                                   ascending=False).head()))"
   ]
  },
  {
   "cell_type": "code",
   "execution_count": null,
   "metadata": {},
   "outputs": [],
   "source": []
  }
 ],
 "metadata": {
  "kernelspec": {
   "display_name": "Python 3",
   "language": "python",
   "name": "python3"
  },
  "language_info": {
   "codemirror_mode": {
    "name": "ipython",
    "version": 3
   },
   "file_extension": ".py",
   "mimetype": "text/x-python",
   "name": "python",
   "nbconvert_exporter": "python",
   "pygments_lexer": "ipython3",
   "version": "3.7.3"
  }
 },
 "nbformat": 4,
 "nbformat_minor": 2
}
