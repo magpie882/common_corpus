{
 "cells": [
  {
   "cell_type": "code",
   "execution_count": 104,
   "metadata": {},
   "outputs": [],
   "source": [
    "import pandas as pd\n",
    "import nltk\n",
    "import matplotlib.pyplot as plt\n",
    "import re\n",
    "import string"
   ]
  },
  {
   "cell_type": "code",
   "execution_count": 642,
   "metadata": {},
   "outputs": [],
   "source": [
    "def allDigitPunctCheck(_token):\n",
    "    if len(_token) == len([_t for _t in _token if _t in (string.punctuation+string.digits)]):\n",
    "        return True\n",
    "    else:\n",
    "        return False\n",
    "    \n",
    "def nameSwitch(_verbatim,_new_name,_old_names):\n",
    "    if type(_old_names) != \"list\":\n",
    "        return \"ERROR - _old_names must be a list\"\n",
    "    else:\n",
    "        for _old_name in _old_names:\n",
    "            _verbatim = _verbatim.replace(_old_name,_new_name)\n",
    "    return _verbatim\n",
    "\n",
    "def criteriaCheck(_verbatim):\n",
    "    _verb_start = _verbatim.split(\".\")[0].replace(\" \",\"\")\n",
    "    _crit_start = string.ascii_letters+string.digits\n",
    "    return _verb_start[0] in _crit_start and len(_verb_start)==1\n"
   ]
  },
  {
   "cell_type": "code",
   "execution_count": 662,
   "metadata": {},
   "outputs": [
    {
     "name": "stdout",
     "output_type": "stream",
     "text": [
      "80065\n"
     ]
    }
   ],
   "source": [
    "dsmv = open(\"dsmv.txt\", \"r\").read()\n",
    "#dsmv = dsmv.replace(\"Attention-Deficit/Hyperactivity Disorder\", \"adhd\")\n",
    "#dsmv = dsmv.replace(\"Attention-Deficit/Hyperactivity Disorder\", \"adhd\")\n",
    "dsmv = dsmv.split(\"\\n\")\n",
    "\n",
    "print(len(dsmv))"
   ]
  },
  {
   "cell_type": "code",
   "execution_count": 664,
   "metadata": {},
   "outputs": [
    {
     "name": "stdout",
     "output_type": "stream",
     "text": [
      "17220\n"
     ]
    }
   ],
   "source": [
    "# Remove empty lines and join split lines\n",
    "adhd_list = [\"Attention-deficit /hyperactivity disorder\",\n",
    "             \"Attention-deficit /Hyperactivity disorder\",\n",
    "             \"attention-deficit/hyperactivity disorder\",\n",
    "             \"attention-deficit/hyperactivity\",\n",
    "             \"Attention-deficit/hyperactivity disorder\",\n",
    "             \"Attention-deficit/hyperactivity\",\n",
    "             \"Attention-deficit/Hyperactivity Disorder\",\n",
    "             \"Attention-deficit/Hyperactivity\",\n",
    "             \"Attention-Deficit/Hyperactivity Disorder\",\n",
    "             \"Attention-Deficit/Hyperactivity\"]\n",
    "\n",
    "for i in reversed(range(len(dsmv))):\n",
    "    dsmv[i] = dsmv[i].strip()\n",
    "    if len(dsmv[i]) == 0:\n",
    "        dsmv.pop(i)\n",
    "        \n",
    "    elif allDigitPunctCheck(dsmv[i]) == True:\n",
    "        dsmv.pop(i)\n",
    "        \n",
    "    elif dsmv[i][-1] == \"-\" or dsmv[i][-1] == \"/\":\n",
    "        dsmv[i] = dsmv[i][0:len(dsmv[i])-1]+dsmv[i+1]\n",
    "        dsmv.pop(i+1)\n",
    "        \n",
    "    elif dsmv[i][-1] == \",\":\n",
    "        dsmv[i] = dsmv[i]+\" \"+dsmv[i+1]\n",
    "        dsmv.pop(i+1)\n",
    "        \n",
    "    elif i < len(dsmv)-1:\n",
    "        if dsmv[i][-1] != \".\" and dsmv[i+1][0] not in (string.ascii_uppercase+string.digits+\")\"):\n",
    "            dsmv[i] = dsmv[i]+\" \"+dsmv[i+1]\n",
    "            dsmv.pop(i+1)\n",
    "\n",
    "heading_exclusions = [\",\",\".\"]\n",
    "\n",
    "for i in reversed(range(len(dsmv))):\n",
    "    if dsmv[i][-1] == \")\" or dsmv[i][-1] in string.digits:\n",
    "        dsmv.pop(i)\n",
    "    \n",
    "    #elif len(dsmv[i].split(\" \")) == len([1 for x in dsmv[i].split(\" \") if x[0] in string.ascii_uppercase]):\n",
    "    #    if len([x for x in dsmv[i] if x in heading_exclusions]) > 0:\n",
    "    #            dsmv.pop(i)\n",
    "                \n",
    "print(len(dsmv))"
   ]
  },
  {
   "cell_type": "code",
   "execution_count": 676,
   "metadata": {},
   "outputs": [],
   "source": [
    "disorder_dict = {}\n",
    "heading_list = \"\"\n",
    "criteria = []\n",
    "special_headings = [\"Subtypes\",\"Diagnostic Criteria\",\"Features\"]\n",
    "disorder_index = 0\n",
    "\n",
    "for i in range(len(dsmv)-1):\n",
    "    if len(dsmv[i]) > 6:\n",
    "        if criteriaCheck(dsmv[i]) is True:\n",
    "            if dsmv[i][0] == \"A\":\n",
    "                disorder_dict[disorder_index] = criteria\n",
    "                disorder_index += 1\n",
    "                criteria = []\n",
    "                criteria.append(dsmv[i].strip())\n",
    "            else:\n",
    "                criteria.append(dsmv[i].strip())"
   ]
  },
  {
   "cell_type": "code",
   "execution_count": 678,
   "metadata": {},
   "outputs": [
    {
     "name": "stdout",
     "output_type": "stream",
     "text": [
      "186\n",
      "p. ; cm.\n",
      "A. Deficits in intellectual functions, such as reasoning, problem solving, planning, abstract thinking, judgment, academic learning, and learning from experience, confirmed by both clinical assessment and individualized, standardized intelligence testing.\n",
      "A. Persistent difficulties in the acquisition and use of language across modalities (i.e., spoken, written, sign language, or other) due to deficits in comprehension or production that include the following:\n",
      "A. Persistent difficulty with speech sound production that interferes with speech intelligibility or prevents verbal communication of messages.\n",
      "A. Disturbances in the normal fluency and time patterning of speech that are inappropriate for the individual’s age and language skills, persist over time, and are characterized by frequent and marked occurrences of one (or more) of the following:\n",
      "A. Persistent difficulties in the social use of verbal and nonverbal communication as manifested by all of the following:\n",
      "A. Persistent deficits in social communication and social interaction across multiple contexts, as manifested by the following, currently or by history (examples are illustrative, not exhaustive; see text):\n",
      "A. A persistent pattern of inattention and/or hyperactivity-impulsivity that interferes with functioning or development, as characterized by (1) and/or (2):\n",
      "A. Difficulties learning and using academic skills, as indicated by the presence of at least one of the following symptoms that have persisted for at least 6 months, despite the provision of interventions that target those difficulties:\n",
      "A. The acquisition and execution of coordinated motor skills is substantially below that expected given the individual’s chronological age and opportunity for skill learning and use. Difficulties are manifested as clumsiness (e.g., dropping or bumping into objects) as well as slowness and inaccuracy of performance of motor skills (e.g., catching an object, using scissors or cutlery, handwriting, riding a bike, or participating in sports).\n",
      "A. Repetitive, seemingly driven, and apparently purposeless motor behavior (e.g., hand shaking or waving, body rocking, head banging, self-biting, hitting own body).\n",
      "A. Both multiple motor and one or more vocal tics have been present at some time during the illness, although not necessarily concurrently.\n",
      "A. Single or multiple motor or vocal tics have been present during the illness, but not both motor and vocal.\n",
      "A. Single or multiple motor and/or vocal tics.\n",
      "A. The presence of one (or more) delusions with a duration of 1 month or longer.\n",
      "A. Presence of one (or more) of the following symptoms. At least one of these must be (1), (2), or (3):\n",
      "A. Two (or more) of the following, each present for a significant portion of time during a\n",
      "A. Two (or more) of the following, each present for a significant portion of time during a\n",
      "A. An uninterrupted period of illness during which there is a major mood episode (major depressive or manic) concurrent with Criterion A of schizophrenia.\n",
      "A. Presence of one or both of the following symptoms:\n",
      "A. Prominent hallucinations or delusions.\n",
      "A. The clinical picture is dominated by three (or more) of the following symptoms:\n",
      "A. The clinical picture is dominated by three (or more) of the following symptoms:\n",
      "A. A distinct period of abnormally and persistently elevated, expansive, or irritable mood and abnormally and persistently increased goal-directed activity or energy, lasting at least 1 week and present most of the day, nearly every day (or any duration if hospitalization is necessary).\n",
      "A. A distinct period of abnormally and persistently elevated, expansive, or irritable mood and abnormally and persistently increased activity or energy, lasting at least 4 consecutive days and present most of the day, nearly every day.\n",
      "A. Five (or more) of the following symptoms have been present during the same 2-week period and represent a change from previous functioning; at least one of the symptoms is either (1) depressed mood or (2) loss of interest or pleasure.\n",
      "A. Criteria have been met for at least one manic episode (Criteria A-D under “Manic Episode” above).\n",
      "A. A distinct period of abnormally and persistently elevated, expansive, or irritable mood and abnormally and persistently increased activity or energy, lasting at least 4 consecutive days and present most of the day, nearly every day.\n",
      "A. Five (or more) of the following symptoms have been present during the same 2-week period and represent a change from previous functioning; at least one of the symptoms is either (1 ) depressed mood or (2) loss of interest or pleasure.\n",
      "A. Criteria have been met for at least one hypomanic episode (Criteria A-F under “Hypomanic Episode” above) and at least one major depressive episode (Criteria A-C under “Major Depressive Episode” above).\n",
      "A. For at least 2 years (at least 1 year in children and adolescents) there have been numerous periods with hypomanic symptoms that do not meet criteria for a hypomanic episode and numerous periods with depressive symptoms that do not meet criteria for a major depressive episode.\n",
      "A. A prominent and persistent disturbance in mood that predominates in the clinical picture and is characterized by elevated, expansive, or irritable mood, with or without depressed mood, or markedly diminished interest or pleasure in all, or almost all, activities.\n",
      "A. A prominent and persistent period of abnormally elevated, expansive, or irritable mood and abnormally increased activity or energy that predominates in the clinical picture.\n",
      "A. Full criteria are met for a manic episode or hypomanic episode, and at least three of the following symptoms are present during the majority of days of the current or most recent episode of mania or hypomania:\n",
      "A. Full criteria are met for a major depressive episode, and at least three of the following manic/hypomanic symptoms are present during the majority of days of the current or most recent episode of depression:\n",
      "A. One of the following is present during the most severe period of the current episode:\n",
      "A. Mood reactivity (i.e., mood brightens in response to actual or potential positive events).\n",
      "A. There has been a regular temporal relationship between the onset of manic, hypomanic, or major depressive episodes and a particular time of the year (e.g., in the fall or winter) in bipolar I or bipolar II disorder.\n",
      "A. Severe recurrent temper outbursts manifested verbally (e.g., verbal rages) and/or behaviorally (e.g., physical aggression toward people or property) that are grossly out of proportion in intensity or duration to the situation or provocation.\n",
      "A. Five (or more) of the following symptoms have been present during the same 2-week period and represent a change from previous functioning; at least one of the symptoms is either (1) depressed mood or (2) loss of interest or pleasure.\n",
      "A. Depressed mood for most of the day, for more days than not, as indicated by either subjective account or observation by others, for at least 2 years.\n",
      "A. In the majority of menstrual cycles, at least five symptoms must be present in the final week before the onset of menses, start to improve within a few days after the onset of menses, and become minimal or absent in the week postmenses.\n",
      "A. A prominent and persistent disturbance in mood that predominates in the clinical picture and is characterized by depressed mood or markedly diminished interest or pleasure in all, or almost all, activities.\n",
      "A. A prominent and persistent period of depressed mood or markedly diminished interest or pleasure in all, or almost all, activities that predominates in the clinical picture.\n",
      "A. At least three of the following manic/hypomanic symptoms are present nearly every day during the majority of days of a major depressive episode:\n",
      "A. One of the following is present during the most severe period of the current episode:\n",
      "A. Mood reactivity (i.e., mood brightens in response to actual or potential positive events).\n",
      "A. There has been a regular temporal relationship between the onset of major depressive episodes in major depressive disorder and a particular time of the year (e.g., in the fall or winter).\n",
      "A. Developmental^ inappropriate and excessive fear or anxiety concerning separation from those to whom the individual is attached, as evidenced by at least three of the following:\n",
      "A. Consistent failure to speak in specific social situations in which there is an expectation for speaking (e.g., at school) despite speaking in other situations.\n",
      "A. Marked fear or anxiety about a specific object or situation (e.g., flying, heights, animals, receiving an injection, seeing blood).\n",
      "A. Marked fear or anxiety about one or more social situations in which the individual is exposed to possible scrutiny by others. Examples include social interactions (e.g., having a conversation, meeting unfamiliar people), being observed (e.g., eating or drinking), and performing in front of others (e.g., giving a speech).\n",
      "A. Recurrent unexpected panic attacks. A panic attack is an abrupt surge of intense fear or intense discomfort that reaches a peak within minutes, and during which time four (or more) of the following symptoms occur:\n",
      "A. Marked fear or anxiety about two (or more) of the following five situations:\n",
      "A. Excessive anxiety and worry (apprehensive expectation), occurring more days than not for at least 6 months, about a number of events or activities (such as work or school performance).\n",
      "A. Panic attacks or anxiety is predominant in the clinical picture.\n",
      "A. Panic attacks or anxiety is predominant in the clinical picture.\n",
      "A. Presence of obsessions, compulsions, or both:\n",
      "A. Preoccupation with one or more perceived defects or flaws in physical appearance that are not observable or appear slight to others.\n",
      "A. Persistent difficulty discarding or parting with possessions, regardless of their actual value.\n",
      "A. Recurrent pulling out of one’s hair, resulting in hair loss.\n",
      "A. Recurrent skin picking resulting in skin lesions.\n",
      "A. Obsessions, compulsions, skin picking, hair pulling, other body-focused repetitive behaviors, or other symptoms characteristic of the obsessive-compulsive and related disorders predominate in the clinical picture.\n",
      "A. Obsessions, compulsions, preoccupations with appearance, hoarding, skin picking, hair pulling, other body-focused repetitive behaviors, or other symptoms characteristic of obsessive-compulsive and related disorder predominate in the clinical picture.\n",
      "A. A consistent pattern of inhibited, emotionally withdrawn behavior toward adult caregivers, manifested by both of the following:\n",
      "A. A pattern of behavior in which a child actively approaches and interacts with unfamiliar adults and exhibits at least two of the following:\n",
      "A. Exposure to actual or threatened death, serious injury, or sexual violence in one (or more) of the following ways:\n",
      "A. In children 6 years and younger, exposure to actual or threatened death, serious injury, or sexual violence in one (or more) of the following ways:\n",
      "A. Exposure to actual or threatened death, serious injury, or sexual violation in one (or more) of the following ways:\n",
      "A. The development of emotional or behavioral symptoms in response to an identifiable stressor(s) occurring within 3 months of the onset of the stressor(s).\n",
      "A. Disruption of identity characterized by two or more distinct personality states, which may be described in some cultures as an experience of possession. The disruption in identity involves marked discontinuity in sense of self and sense of agency, accompanied by related alterations in affect, behavior, consciousness, memory, perception, cognition, and/or sensory-motor functioning. These signs and symptoms may be observed by others or reported by the individual.\n",
      "A. An inability to recall important autobiographical information, usually of a traumatic or stressful nature, that is inconsistent with ordinary forgetting.\n",
      "A. The presence of persistent or recurrent experiences of depersonalization, derealization, or both:\n",
      "A. One or more somatic symptoms that are distressing or result in significant disruption of daily life.\n",
      "A. Preoccupation with having or acquiring a serious illness.\n",
      "A. One or more symptoms of altered voluntary motor or sensory function.\n",
      "A. A medical symptom or condition (other than a mental disorder) is present.\n",
      "A. Falsification of physical or psychological signs or symptoms, or induction of injury or disease, associated with identified deception.\n",
      "A. Falsification of physical or psychological signs or symptoms, or induction of injury or disease, in another, associated with identified deception.\n",
      "A. Persistent eating of nonnutritive, nonfood substances over a period of at least 1 month.\n",
      "A. Repeated regurgitation of food over a period of at least 1 month. Regurgitated food may be re-chewed, re-swallowed, or spit out.\n",
      "A. An eating or feeding disturbance (e.g., apparent lack of interest in eating or food; avoidance based on the sensory characteristics of food; concern about aversive consequences of eating) as manifested by persistent failure to meet appropriate nutritional and/or energy needs associated with one (or more) of the following:\n",
      "A. Restriction of energy intake relative to requirements, leading to a significantly low body weight in the context of age, sex, developmental trajectory, and physical health. Significantly low weight is defined as a weight that is less than minimally normal or, for children and adolescents, less than that minimally expected.\n",
      "A. Recurrent episodes of binge eating. An episode of binge eating is characterized by both of the following:\n",
      "A. Recurrent episodes of binge eating. An episode of binge eating is characterized by both of the following:\n",
      "A. Repeated voiding of urine into bed or clothes, whether involuntary or intentional.\n",
      "A. Repeated passage of feces into inappropriate places (e.g., clothing, floor), whether involuntary or intentional.\n",
      "A. A predominant complaint of dissatisfaction with sleep quantity or quality, associated with one (or more) of the following symptoms:\n",
      "A. Self-reported excessive sleepiness (hypersomnolence) despite a main sleep period lasting at least 7 hours, with at least one of the following symptoms:\n",
      "A. Recurrent periods of an irrepressible need to sleep, lapsing into sleep, or napping occurring within the same day. These must have been occurring at least three times per week over the past 3 months.\n",
      "A. Either (1) or (2):\n",
      "A. Evidence by polysomnography of five or more central apneas per hour of sleep.\n",
      "A. A persistent or recurrent pattern of sleep disruption that is primarily due to an alteration of the circadian system or to a misalignment between the endogenous circadian rhythm and the sleep-wake schedule required by an individual’s physical environment or social or professional schedule.\n",
      "A. Recurrent episodes of incomplete awakening from sleep, usually occurring during the first third of the major sleep episode, accompanied by either one of the following:\n",
      "A. Repeated occurrences of extended, extremely dysphoric, and well-remembered dreams that usually involve efforts to avoid threats to survival, security, or physical integrity and that generally occur during the second half of the major sleep episode.\n",
      "A. Repeated episodes of arousal during sleep associated with vocalization and/or complex motor behaviors.\n",
      "A. An urge to move the legs, usually accompanied by or in response to uncomfortable and unpleasant sensations in the legs, characterized by all of the following:\n",
      "A. A prominent and severe disturbance in sleep.\n",
      "A. Either of the following symptoms must be experienced on almost all or all occasions (approximately 75%-100%) of partnered sexual activity (in identified situational contexts or, if generalized, in all contexts), and without the individual desiring delay:\n",
      "A. At least one of the three following symptoms must be experienced on almost all or all (approximately 75%-100%) occasions of sexual activity (in identified situational contexts or, if generalized, in all contexts):\n",
      "A. Presence of either of the following symptoms and experienced on almost all or all (approximately 75%-1 00%) occasions of sexual activity (in identified situational contexts or, if generalized, in all contexts):\n",
      "A. Lack of, or significantly reduced, sexual interest/arousal, as manifested by at least three of the following:\n",
      "A. Persistent or recurrent difficulties with one (or more) of the following:\n",
      "A. Persistently or recurrently deficient (or absent) sexual/erotic thoughts or fantasies and desire for sexual activity. The judgment of deficiency is made by the clinician, taking into account factors that affect sexual functioning, such as age and general and sociocultural contexts of the individual’s life.\n",
      "A. A persistent or recurrent pattern of ejaculation occurring during partnered sexual activity within approximately 1 minute following vaginal penetration and before the individual wishes it.\n",
      "A. A clinically significant disturbance in sexual function is predominant in the clinical picture.\n",
      "A. A marked incongruence between one’s experienced/expressed gender and assigned gender, of at least 6 months’ duration, as manifested by at least six of the following (one of which must be Criterion A1):\n",
      "A. A marked incongruence between one’s experienced/expressed gender and assigned gender, of at least 6 months’ duration, as manifested by at least two of the following:\n",
      "A. A pattern of angry/irritable mood, argumentative/defiant behavior, or vindictiveness lasting at least 6 months as evidenced by at least four symptoms from any of the following categories, and exhibited during interaction with at least one individual who is not a sibling.\n",
      "A. Recurrent behavioral outbursts representing a failure to control aggressive impulses as manifested by either of the following:\n",
      "A. A repetitive and persistent pattern of behavior in which the basic rights of others or major age-appropriate societal norms or rules are violated, as manifested by the presence of at least three of the following 1 5 criteria in the past 1 2 months from any of the categories below, with at least one criterion present in the past 6 months:\n",
      "A. Deliberate and purposeful fire setting on more than one occasion.\n",
      "A. Recurrent failure to resist impulses to steal objects that are not needed for personal use or for their monetary value.\n",
      "A. The disorder represents a clinically significant symptomatic presentation of a relevant mental disorder.\n",
      "A. A problematic pattern of alcohol use leading to clinically significant impairment or distress, as manifested by at least two of the following, occurring within a 12-month period:\n",
      "A. Recent ingestion of alcohol.\n",
      "A. Cessation of (or reduction in) alcohol use that has been heavy and prolonged.\n",
      "A. Recent consumption of caffeine (typically a high dose well in excess of 250 mg).\n",
      "A. Prolonged daily use of caffeine.\n",
      "A. A problematic pattern of cannabis use leading to clinically significant impairment or distress, as manifested by at least two of the following, occurring within a 12-month period:\n",
      "A. Recent use of cannabis.\n",
      "A. Cessation of cannabis use that has been heavy and prolonged (i.e., usually daily or almost daily use over a period of at least a few months).\n",
      "A. A pattern of phencyclidine (or a pharmacologically similar substance) use leading to clinically significant impairment or distress, as manifested by at least two of the following, occurring within a 12-month period:\n",
      "A. A problematic pattern of hallucinogen (other than phencyclidine) use leading to clinically significant impairment or distress, as manifested by at least two of the following, occurring within a 1 2-month period:\n",
      "A. Recent use of phencyclidine (or a pharmacologically similar substance).\n",
      "A. Recent use of a hallucinogen (other than phencyclidine).\n",
      "A. Following cessation of use of a hallucinogen, the reexperiencing of one or more of the perceptual symptoms that were experienced while intoxicated with the hallucinogen (e.g., geometric hallucinations, false perceptions of movement in the peripheral visual fields, flashes of color, intensified colors, trails of images of moving objects, positive afterimages, halos around objects, macropsia and micropsia).\n",
      "A. A problematic pattern of use of a hydrocarbon-based inhalant substance leading to clinically significant impairment or distress, as manifested by at least two of the following, occurring within a 12-month period:\n",
      "A. Recent intended or unintended short-term, high-dose exposure to inhalant substances, including volatile hydrocarbons such as toluene or gasoline.\n",
      "A. A problematic pattern of opioid use leading to clinically significant impairment or distress, as manifested by at least two of the following, occurring within a 12-month period:\n",
      "A. Recent use of an opioid.\n",
      "A. Presence of either of the following:\n",
      "A. A problematic pattern of sedative, hypnotic, or anxiolytic use leading to clinically significant impairment or distress, as manifested by at least two of the following, occurring within a 12-month period:\n",
      "A. Recent use of a sedative, hypnotic, or anxiolytic.\n",
      "A. Cessation of (or reduction in) sedative, hypnotic, or anxiolytic use that has been prolonged.\n",
      "A. A pattern of amphetamine-type substance, cocaine, or other stimulant use leading to clinically significant impairment or distress, as manifested by at least two of the following, occurring within a 12-month period:\n",
      "A. Recent use of an amphetamine-type substance, cocaine, or other stimulant.\n",
      "A. Cessation of (or reduction in) prolonged amphetamine-type substance, cocaine, or other stimulant use.\n",
      "A. A problematic pattern of tobacco use leading to clinically significant impairment or distress, as manifested by at least two of the following, occurring within a 12-month period:\n",
      "A. Daily use of tobacco for at least several weeks.\n",
      "A. A problematic pattern of use of an intoxicating substance not able to be classified within the alcohol; caffeine; cannabis; hallucinogen (phencyclidine and others); inhalant; opioid; sedative, hypnotic, or anxiolytic; stimulant; or tobacco categories and leading to clinically significant impairment or distress, as manifested by at least two of the following, occurring within a 12-month period:\n",
      "A. The development of a reversible substance-specific syndrome attributable to recent ingestion of (or exposure to) a substance that is not listed elsewhere or is unknown.\n",
      "A. Cessation of (or reduction in) use of a substance that has been heavy and prolonged.\n",
      "A. Persistent and recurrent problematic gambling behavior leading to clinically significant impairment or distress, as indicated by the individual exhibiting four (or more) of the following in a 1 2-month period:\n",
      "A. A disturbance in attention (i.e., reduced ability to direct, focus, sustain, and shift attention) and awareness (reduced orientation to the environment).\n",
      "A. Evidence of significant cognitive decline from a previous level of performance in one or more cognitive domains (complex attention, executive function, learning and memory, language, perceptual-motor, or social cognition) based on:\n",
      "A. Evidence of modest cognitive decline from a previous level of performance in one or more cognitive domains (complex attention, executive function, learning and memory, language, perceptual motor, or social cognition) based on:\n",
      "A. The criteria are met for major or mild neurocognitive disorder.\n",
      "A. The criteria are met for major or mild neurocognitive disorder.\n",
      "A. The criteria are met for major or mild neurocognitive disorder.\n",
      "A. The criteria are met for major or mild neurocognitive disorder.\n",
      "A. The criteria are met for major or mild neurocognitive disorder.\n",
      "A. The criteria are met for major or mild neurocognitive disorder.\n",
      "A. The criteria are met for major or mild neurocognitive disorder.\n",
      "A. The criteria are met for major or mild neurocognitive disorder.\n",
      "A. The criteria are met for major or mild neurocognitive disorder.\n",
      "A. The criteria are met for major or mild neurocognitive disorder.\n",
      "A. The criteria are met for major or mild neurocognitive disorder.\n",
      "A. The criteria are met for major or mild neurocognitive disorder.\n",
      "A. An enduring pattern of inner experience and behavior that deviates markedly from the expectations of the individual’s culture. This pattern is manifested in two (or more) of the following areas:\n",
      "A. A pervasive distrust and suspiciousness of others such that their motives are interpreted as malevolent, beginning by early adulthood and present in a variety of contexts, as indicated by four (or more) of the following:\n",
      "A. A pervasive pattern of detachment from social relationships and a restricted range of expression of emotions in interpersonal settings, beginning by early adulthood and present in a variety of contexts, as indicated by four (or more) of the following:\n",
      "A. A pervasive pattern of social and interpersonal deficits marked by acute discomfort with, and reduced capacity for, close relationships as well as by cognitive or perceptual distortions and eccentricities of behavior, beginning by early adulthood and present in a variety of contexts, as indicated by five (or more) of the following:\n",
      "A. A pervasive pattern of disregard for and violation of the rights of others, occurring since age 15 years, as indicated by three (or more) of the following:\n",
      "A. A persistent personality disturbance that represents a change from the individual’s previous characteristic personality pattern.\n",
      "A. Over a period of at least 6 months, recurrent and intense sexual arousal from observing an unsuspecting person who is naked, in the process of disrobing, or engaging in sexual activity, as manifested by fantasies, urges, or behaviors.\n",
      "A. Over a period of at least 6 months, recurrent and intense sexual arousal from the exposure of one’s genitals to an unsuspecting person, as manifested by fantasies, urges, or behaviors.\n",
      "A. Over a period of at least 6 months, recurrent and intense sexual arousal from touching or rubbing against a nonconsenting person, as manifested by fantasies, urges, or behaviors.\n",
      "A. Over a period of at least 6 months, recurrent and intense sexual arousal from the act of being humiliated, beaten, bound, or otherwise made to suffer, as manifested by fantasies, urges, or behaviors.\n",
      "A. Over a period of at least 6 months, recurrent and intense sexual arousal from the physical or psychological suffering of another person, as manifested by fantasies, urges, or behaviors.\n",
      "A. Over a period of at least 6 months, recurrent, intense sexually arousing fantasies, sexual urges, or behaviors involving sexual activity with a prepubescent child or children (generally age 13 years or younger).\n",
      "A. Over a period of at least 6 months, recurrent and intense sexual arousal from either the use of nonliving objects or a highly specific focus on nongenital body part(s), as manifested by fantasies, urges, or behaviors.\n",
      "A. Over a period of at least 6 months, recurrent and intense sexual arousal from crossdressing, as manifested by fantasies, urges, or behaviors.\n",
      "A. Moderate or greater impairment in personality (self/interpersonal) functioning.\n",
      "A. Moderate or greater impairment in personality functioning, manifested by characteristic difficulties in two or more of the following four areas:\n",
      "A. Moderate or greater impairment in personality functioning, manifest by characteristic difficulties in two or more of the following four areas:\n",
      "A. Moderate or greater impairment in personality functioning, manifested by characteristic difficulties in two or more of the following four areas:\n",
      "A. Moderate or greater impairment in personality functioning, manifested by characteristic difficulties in two or more of the following four areas:\n",
      "A. Moderate or greater impairment in personality functioning, manifested by characteristic difficulties in two or more of the following four areas:\n",
      "A. Moderate or greater impairment in personality functioning, manifested by characteristic difficulties in two or more of the following four areas:\n",
      "A. Moderate or greater impairment in personality functioning, manifested by difficulties in two or more of the following four areas:\n",
      "A. At least one of the following symptoms is present in attenuated form, with relatively intact reality testing, and is of sufficient severity or frequency to warrant clinical attention:\n",
      "A. A distinct period of abnormally and persistently elevated, expansive, or irritable mood and abnormally and persistently increased goal-directed activity or energy.\n",
      "A. The individual experienced the death of someone with whom he or she had a close relationship.\n",
      "A. More than minimal exposure to alcohol during gestation, including prior to pregnancy recognition. Confirmation of gestational exposure to alcohol may be obtained from maternal self-report of alcohol use in pregnancy, medical or other records, or clinical observation.\n",
      "A. Within the last 24 months, the individual has made a suicide attempt.\n"
     ]
    }
   ],
   "source": [
    "print(len(disorder_dict))\n",
    "\n",
    "for k in disorder_dict.keys():\n",
    "    print(disorder_dict[k][0])"
   ]
  },
  {
   "cell_type": "code",
   "execution_count": 654,
   "metadata": {},
   "outputs": [
    {
     "data": {
      "text/plain": [
       "'\\n        elif len(criteria) == 0:\\n            #if re.findall(\"disorder\",dsmv[i].split(\".\")[0].lower()) == 1:\\n            if dsmv[i].split(\".\")[0] not in exclusion_headings:\\n                heading_list = dsmv[i].split(\".\")[0]\\n            #else:\\n            if len(criteria) > 0:\\n                disorder_dict[heading_list] = criteria\\n                #print(criteria)\\n                heading_list = \"\"\\n                criteria = []\\n\\nlen(disorder_dict)\\n'"
      ]
     },
     "execution_count": 654,
     "metadata": {},
     "output_type": "execute_result"
    }
   ],
   "source": [
    "\"\"\"\n",
    "        elif len(criteria) == 0:\n",
    "            #if re.findall(\"disorder\",dsmv[i].split(\".\")[0].lower()) == 1:\n",
    "            if dsmv[i].split(\".\")[0] not in exclusion_headings:\n",
    "                heading_list = dsmv[i].split(\".\")[0]\n",
    "            #else:\n",
    "            if len(criteria) > 0:\n",
    "                disorder_dict[heading_list] = criteria\n",
    "                #print(criteria)\n",
    "                heading_list = \"\"\n",
    "                criteria = []\n",
    "\n",
    "len(disorder_dict)\n",
    "\"\"\""
   ]
  },
  {
   "cell_type": "code",
   "execution_count": 645,
   "metadata": {},
   "outputs": [
    {
     "data": {
      "text/plain": [
       "'\\nfor i in range(len(dsmv)):\\n    if len(dsmv[i].replace(\"/\",\"\").replace(\"-\",\"\").split(\" \")) == len([1 for x in dsmv[i].split(\" \") if x[0] in string.ascii_uppercase]):\\n        if len([x for x in dsmv[i] if x in heading_exclusions]) == 0:\\n                print(dsmv[i])\\n                \\n    elif dsmv[i][0] in (string.ascii_uppercase+string.digits) and dsmv[i][1] == \".\":\\n        print(dsmv[i])\\n'"
      ]
     },
     "execution_count": 645,
     "metadata": {},
     "output_type": "execute_result"
    }
   ],
   "source": [
    "\"\"\"\n",
    "for i in range(len(dsmv)):\n",
    "    if len(dsmv[i].replace(\"/\",\"\").replace(\"-\",\"\").split(\" \")) == len([1 for x in dsmv[i].split(\" \") if x[0] in string.ascii_uppercase]):\n",
    "        if len([x for x in dsmv[i] if x in heading_exclusions]) == 0:\n",
    "                print(dsmv[i])\n",
    "                \n",
    "    elif dsmv[i][0] in (string.ascii_uppercase+string.digits) and dsmv[i][1] == \".\":\n",
    "        print(dsmv[i])\n",
    "\"\"\""
   ]
  },
  {
   "cell_type": "code",
   "execution_count": 646,
   "metadata": {},
   "outputs": [
    {
     "name": "stdout",
     "output_type": "stream",
     "text": [
      "34 lines\n"
     ]
    }
   ],
   "source": [
    "occurances = []\n",
    "verbatim_list = []\n",
    "verbatim_str = \"\"\n",
    "\n",
    "for i in range(len(dsmv)):\n",
    "    if len(re.findall(\"ADHD\",dsmv[i])) > 0:\n",
    "        occurances.append(i)\n",
    "        verbatim_list.append(dsmv[i])\n",
    "        \n",
    "        if len(verbatim_list) > 0:\n",
    "            verbatim_str = verbatim_str + \" \" + dsmv[i].lower().replace(\" (adhd)\",\"\").replace(\"(s)\",\"\")\n",
    "        else:\n",
    "            verbatim_str = dsmv[i].lower().replace(\" (adhd)\",\"\").replace(\"(s)\",\"\")\n",
    "\n",
    "print(len(occurances),\"lines\")"
   ]
  },
  {
   "cell_type": "code",
   "execution_count": 647,
   "metadata": {},
   "outputs": [],
   "source": [
    "from nltk.probability import FreqDist\n",
    "from nltk.tokenize import word_tokenize\n",
    "import matplotlib.pyplot as plt\n",
    "from nltk.stem import porter"
   ]
  },
  {
   "cell_type": "code",
   "execution_count": 648,
   "metadata": {},
   "outputs": [],
   "source": [
    "stop_words = [\"and\",\"of\",\"the\",\"but\",\"with\",\"in\",\"to\",\"is\",\"a\",\"are\",\n",
    "              \"or\",\"may\",\"for\",\"be\",\"as\",\"that\",\"not\",\"have\",\"within\",\"into\",\"whereas\",\"however\",\n",
    "              \"more\",\"often\",\"thus\",\"on\",\"also\",\"was\",\"by\",\"from\",\"if\",\"this\",\"that\",\"those\",\"these\",\n",
    "              \"who\",\"whose\",\"later\",\n",
    "              \"``\",\"''\"]\n",
    "simple_dist = FreqDist(word.lower() for word in word_tokenize(verbatim_str)\n",
    "                       if (word.lower() not in stop_words and word.lower() not in string.punctuation) \n",
    "                       and (len(word.lower()) > 1 and allDigitPunctCheck(word) is False))"
   ]
  },
  {
   "cell_type": "code",
   "execution_count": 653,
   "metadata": {},
   "outputs": [
    {
     "data": {
      "text/plain": [
       "'The essential feature of a panic attack is an abrupt surge of intense fear or intense discomfort'"
      ]
     },
     "execution_count": 653,
     "metadata": {},
     "output_type": "execute_result"
    }
   ],
   "source": [
    "dsmv[5001]"
   ]
  },
  {
   "cell_type": "code",
   "execution_count": null,
   "metadata": {},
   "outputs": [],
   "source": []
  },
  {
   "cell_type": "code",
   "execution_count": null,
   "metadata": {},
   "outputs": [],
   "source": []
  },
  {
   "cell_type": "code",
   "execution_count": 558,
   "metadata": {},
   "outputs": [
    {
     "data": {
      "text/plain": [
       "'1 .'"
      ]
     },
     "execution_count": 558,
     "metadata": {},
     "output_type": "execute_result"
    }
   ],
   "source": [
    "test[0][:3].strip()"
   ]
  },
  {
   "cell_type": "code",
   "execution_count": null,
   "metadata": {},
   "outputs": [],
   "source": []
  }
 ],
 "metadata": {
  "kernelspec": {
   "display_name": "Python 3",
   "language": "python",
   "name": "python3"
  },
  "language_info": {
   "codemirror_mode": {
    "name": "ipython",
    "version": 3
   },
   "file_extension": ".py",
   "mimetype": "text/x-python",
   "name": "python",
   "nbconvert_exporter": "python",
   "pygments_lexer": "ipython3",
   "version": "3.7.3"
  }
 },
 "nbformat": 4,
 "nbformat_minor": 2
}
